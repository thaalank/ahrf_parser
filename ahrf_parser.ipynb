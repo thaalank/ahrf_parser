{
 "cells": [
  {
   "cell_type": "code",
   "execution_count": 2,
   "metadata": {},
   "outputs": [
    {
     "name": "stdout",
     "output_type": "stream",
     "text": [
      "[['Alabama', 'Autauga'], ['Alabama', 'Baldwin'], ['Alabama', 'Barbour'], ['Alabama', 'Bibb'], ['Alabama', 'Blount'], ['Alabama', 'Bullock'], ['Alabama', 'Butler'], ['Alabama', 'Calhoun'], ['Alabama', 'Chambers'], ['Alabama', 'Cherokee'], ['Alabama', 'Chilton'], ['Alabama', 'Choctaw'], ['Alabama', 'Clarke'], ['Alabama', 'Clay'], ['Alabama', 'Cleburne'], ['Alabama', 'Coffee'], ['Alabama', 'Colbert'], ['Alabama', 'Conecuh'], ['Alabama', 'Coosa'], ['Alabama', 'Covington'], ['Alabama', 'Crenshaw'], ['Alabama', 'Cullman'], ['Alabama', 'Dale'], ['Alabama', 'Dallas'], ['Alabama', 'DeKalb'], ['Alabama', 'Elmore'], ['Alabama', 'Escambia'], ['Alabama', 'Etowah'], ['Alabama', 'Fayette'], ['Alabama', 'Franklin'], ['Alabama', 'Geneva'], ['Alabama', 'Greene'], ['Alabama', 'Hale'], ['Alabama', 'Henry'], ['Alabama', 'Houston'], ['Alabama', 'Jackson'], ['Alabama', 'Jefferson'], ['Alabama', 'Lamar'], ['Alabama', 'Lauderdale'], ['Alabama', 'Lawrence'], ['Alabama', 'Lee'], ['Alabama', 'Limestone'], ['Alabama', 'Lowndes'], ['Alabama', 'Macon'], ['Alabama', 'Madison'], ['Alabama', 'Marengo'], ['Alabama', 'Marion'], ['Alabama', 'Marshall'], ['Alabama', 'Mobile'], ['Alabama', 'Monroe']]\n",
      "[['Alabama', 'Autauga', '00033'], ['Alabama', 'Baldwin', '00306'], ['Alabama', 'Barbour', '00017'], ['Alabama', 'Bibb', '00010'], ['Alabama', 'Blount', '00016'], ['Alabama', 'Bullock', '00009'], ['Alabama', 'Butler', '00014'], ['Alabama', 'Calhoun', '00206'], ['Alabama', 'Chambers', '00036'], ['Alabama', 'Cherokee', '00007'], ['Alabama', 'Chilton', '00015'], ['Alabama', 'Choctaw', '00006'], ['Alabama', 'Clarke', '00019'], ['Alabama', 'Clay', '00007'], ['Alabama', 'Cleburne', '00000'], ['Alabama', 'Coffee', '00055'], ['Alabama', 'Colbert', '00079'], ['Alabama', 'Conecuh', '00007'], ['Alabama', 'Coosa', '00004'], ['Alabama', 'Covington', '00040'], ['Alabama', 'Crenshaw', '00007'], ['Alabama', 'Cullman', '00099'], ['Alabama', 'Dale', '00032'], ['Alabama', 'Dallas', '00071'], ['Alabama', 'DeKalb', '00043'], ['Alabama', 'Elmore', '00035'], ['Alabama', 'Escambia', '00025'], ['Alabama', 'Etowah', '00188'], ['Alabama', 'Fayette', '00013'], ['Alabama', 'Franklin', '00024'], ['Alabama', 'Geneva', '00014'], ['Alabama', 'Greene', '00005'], ['Alabama', 'Hale', '00009'], ['Alabama', 'Henry', '00006'], ['Alabama', 'Houston', '00308'], ['Alabama', 'Jackson', '00056'], ['Alabama', 'Jefferson', '03483'], ['Alabama', 'Lamar', '00003'], ['Alabama', 'Lauderdale', '00163'], ['Alabama', 'Lawrence', '00010'], ['Alabama', 'Lee', '00191'], ['Alabama', 'Limestone', '00053'], ['Alabama', 'Lowndes', '00004'], ['Alabama', 'Macon', '00019'], ['Alabama', 'Madison', '00778'], ['Alabama', 'Marengo', '00017'], ['Alabama', 'Marion', '00023'], ['Alabama', 'Marshall', '00092'], ['Alabama', 'Mobile', '01082'], ['Alabama', 'Monroe', '00017']]\n",
      "[['Alabama', 'Autauga', '00033', '00039381'], ['Alabama', 'Baldwin', '00306', '00120198'], ['Alabama', 'Barbour', '00017', '00026469'], ['Alabama', 'Bibb', '00010', '00017942'], ['Alabama', 'Blount', '00016', '00042721'], ['Alabama', 'Bullock', '00009', '00011149'], ['Alabama', 'Butler', '00014', '00021798'], ['Alabama', 'Calhoun', '00206', '00117263'], ['Alabama', 'Chambers', '00036', '00037262'], ['Alabama', 'Cherokee', '00007', '00021038'], ['Alabama', 'Chilton', '00015', '00034912'], ['Alabama', 'Choctaw', '00006', '00016079'], ['Alabama', 'Clarke', '00019', '00027993'], ['Alabama', 'Clay', '00007', '00013551'], ['Alabama', 'Cleburne', '00000', '00013272'], ['Alabama', 'Coffee', '00055', '00042359'], ['Alabama', 'Colbert', '00079', '00052586'], ['Alabama', 'Conecuh', '00007', '00014022'], ['Alabama', 'Coosa', '00004', '00011680'], ['Alabama', 'Covington', '00040', '00037459'], ['Alabama', 'Crenshaw', '00007', '00013624'], ['Alabama', 'Cullman', '00099', '00072489'], ['Alabama', 'Dale', '00032', '00050001'], ['Alabama', 'Dallas', '00071', '00048022'], ['Alabama', 'DeKalb', '00043', '00057271'], ['Alabama', 'Elmore', '00035', '00057071'], ['Alabama', 'Escambia', '00025', '00036541'], ['Alabama', 'Etowah', '00188', '00100259'], ['Alabama', 'Fayette', '00013', '00018019'], ['Alabama', 'Franklin', '00024', '00029313'], ['Alabama', 'Geneva', '00014', '00024727'], ['Alabama', 'Greene', '00005', '00010076'], ['Alabama', 'Hale', '00009', '00016212'], ['Alabama', 'Henry', '00006', '00015752'], ['Alabama', 'Houston', '00308', '00084367'], ['Alabama', 'Jackson', '00056', '00050128'], ['Alabama', 'Jefferson', '03483', '00657827'], ['Alabama', 'Lamar', '00003', '00015754'], ['Alabama', 'Lauderdale', '00163', '00083598'], ['Alabama', 'Lawrence', '00010', '00032803'], ['Alabama', 'Lee', '00191', '00094029'], ['Alabama', 'Limestone', '00053', '00059344'], ['Alabama', 'Lowndes', '00004', '00012946'], ['Alabama', 'Macon', '00019', '00023959'], ['Alabama', 'Madison', '00778', '00258340'], ['Alabama', 'Marengo', '00017', '00023662'], ['Alabama', 'Marion', '00023', '00030382'], ['Alabama', 'Marshall', '00092', '00078195'], ['Alabama', 'Mobile', '01082', '00397413'], ['Alabama', 'Monroe', '00017', '00024550']]\n"
     ]
    },
    {
     "data": {
      "image/png": "[encoded data removed]",
      "text/plain": [
       "<matplotlib.figure.Figure at 0x10de827f0>"
      ]
     },
     "metadata": {},
     "output_type": "display_data"
    }
   ],
   "source": [
    "import matplotlib.pyplot as plt\n",
    "import numpy as np\n",
    "import csv\n",
    "import pandas as pd\n",
    "\n",
    "\n",
    "class medical_set():\n",
    "    \"\"\"\n",
    "    A class that contains a collection of methods to analyze and parse Area Health Resource Files(AHRF)\n",
    "    \n",
    "    INSTANCE ATTRIBUTES:\n",
    "        ahrf_data: the full AHRF data in .asc form.\n",
    "        tech: a subset of the AHRF 2016-2017 Technical Documentation.xlsx.\n",
    "        subset:  a dictionary of the first 50 lines of AHRF data in the form of \"subset[line0] = first line of the .asc file\".\n",
    "        working_set:  the set of data to export in the form of a nested list with every nested list containing\n",
    "                      string values of the selected variables(up to 4 variables)[list of [\"State Name\", \"County name\",\"variable_1\",\"variable_2]].\n",
    "        var_col: a dictionary of the variable name and it's associated column numbers[var_col[\"Blank\"] = \"0001-0001\"]\n",
    "        variable_1: the first variable that is added to the working set. (can be empty) (is a string)\n",
    "        variable_2: the second variable that is added to the working set. (can be empty) (is a string)\n",
    "        variable_3: the third variable that is added to the working set. (can be empty) (is a string)\n",
    "        variable_4: the fourth variable that is added to the working set. (can be empty) (is a string)\n",
    "        \n",
    "    \"\"\"\n",
    "    \n",
    "    \n",
    "    def __init__(self): \n",
    "        #initalize fields\n",
    "        self.ahrf_data = open('ahrf2017.asc', 'r')\n",
    "        self.tech=pd.read_excel('AHRF 2016-2017 Technical Documentation.xlsx', skiprows = 183, header=None, dtype= object, skip_footer = 499)\n",
    "        self.subset= self._create_subset()\n",
    "        self.working_set=self._create_working_set()\n",
    "        self.var_col= self._var_col_creator()\n",
    "        self.variable_1=\"\"\n",
    "        self.variable_2=\"\"\n",
    "        self.variable_3=\"\"\n",
    "        self.variable_4=\"\"\n",
    "            \n",
    "            \n",
    "    def get_variable_value(self,state_name,county_name,variable_name):\n",
    "        \"\"\"\n",
    "        Returns value of the variable given the state_name, county_name, and variable_name\n",
    "        \n",
    "        Parameter state_name: The name of the state\n",
    "        Precondition: state_name is a string and a valid name of a state in the subset of the asc.\n",
    "        \n",
    "        Parameter county_name: The name of the county\n",
    "        Precondition: county_name is a string and a valid name of a state in the subset of the asc.\n",
    "        \n",
    "        Parameter variable_name: The name of the wanted variable\n",
    "        Precondition: variable_name is a string and a valid name of a state in the subset of the asc.\n",
    "        \"\"\"\n",
    "        col_start= int((self.var_col[variable_name])[0:6])-2\n",
    "        col_end= int((self.var_col[variable_name])[7:12])-1\n",
    "        for key in self.subset:\n",
    "            if((self.subset[key])[44:63].strip()== state_name and (self.subset[key])[65:90].strip() == county_name):\n",
    "                return ((self.subset[key])[col_start:col_end].strip())\n",
    "            \n",
    "            \n",
    "    def append_working_set(self, variable_name):\n",
    "        \"\"\"\n",
    "        Appends the values of the variables to working_set. Does nothing if all four additional variables are filled.\n",
    "        \n",
    "        Parameter variable_name: The name of the wanted variable\n",
    "        Precondition: variable_name is a string and valid name of a variable from tech.\n",
    "        \"\"\"\n",
    "        if (len(self.variable_1)<1):\n",
    "            self.variable_1=variable_name\n",
    "            for line in self.working_set:\n",
    "                line.append(self.get_variable_value(line[0],line[1],variable_name))\n",
    "        elif (len(self.variable_2)<1):\n",
    "            self.variable_2=variable_name\n",
    "            for line in self.working_set:\n",
    "                line.append(self.get_variable_value(line[0],line[1],variable_name))\n",
    "        elif (len(self.variable_3)<1):\n",
    "            self.variable_3=variable_name\n",
    "            for line in self.working_set:\n",
    "                line.append(self.get_variable_value(line[0],line[1],variable_name))\n",
    "        elif (len(self.variable_4)<1):\n",
    "            self.variable_4=variable_name\n",
    "            for line in self.working_set:\n",
    "                line.append(self.get_variable_value(line[0],line[1],variable_name))\n",
    "            \n",
    "            \n",
    "    def export(self):\n",
    "        \"\"\"\n",
    "        Exports working_set into parsed_subset.csv with the first row being the variable names.\n",
    "        \"\"\"\n",
    "        with open('parsed_subset.csv', 'w') as csvfile:\n",
    "            filewriter = csv.writer(csvfile, delimiter=',',\n",
    "                            quotechar='|', quoting=csv.QUOTE_MINIMAL)\n",
    "            filewriter.writerow(['State', 'County', self.variable_1, self.variable_2, self.variable_3, self.variable_4])\n",
    "            filewriter.writerows(self.working_set)\n",
    "            \n",
    "\n",
    "    def plot(self,variable_plotx,variable_ploty):\n",
    "        \"\"\"\n",
    "        Plots the two chosen variables from parsed_subset.csv in a simple graph.\n",
    "\n",
    "        Parameter variable_plotx: The name of the variable to plot\n",
    "        Precondition: variable_plotx is a string and a column with a numerical value in parsed_subset.csv\n",
    "\n",
    "        Parameter variable_ploty: The name of the variable to plot\n",
    "        Precondition: variable_ploty is a string and a column with a numerical value in parsed_subset.csv\n",
    "        \"\"\"\n",
    "        parsed_subset = pd.read_csv('parsed_subset.csv')\n",
    "        parsed_subset.plot(kind = 'scatter', x = variable_plotx, y = variable_ploty, title='Relationship between '+variable_plotx+' and '+variable_ploty)\n",
    "        plt.show()\n",
    "    \n",
    "    \n",
    "    def _create_subset(self):\n",
    "        \"\"\"\n",
    "        Helper funciton to create subset field. \n",
    "        \n",
    "        Reads through arhf_data and appends the first 50 lines to subset with the key\n",
    "        in the form of \"line{x}\", where x is the line number.\n",
    "        \"\"\"\n",
    "        subset={}\n",
    "        for x in range(1,51):\n",
    "            subset['line{0}'.format(x)]= self.ahrf_data.readline().strip() \n",
    "        return subset\n",
    "    \n",
    "    \n",
    "    def _create_working_set(self):\n",
    "        \"\"\"\n",
    "        Appends the values of the variables to working_set. \n",
    "        \"\"\"\n",
    "        working_set=[]\n",
    "        for line in range(1,51):\n",
    "            working_set.append([self.subset['line{0}'.format(line)][44:63].strip(), self.subset['line{0}'.format(line)][65:90].strip()])  \n",
    "        return working_set\n",
    "    \n",
    "    \n",
    "    def _var_col_creator(self):\n",
    "        \"\"\"\n",
    "        Helper function to create var_col field.\n",
    "        \"\"\"\n",
    "        var_col={}\n",
    "        for x in range(1,7706):\n",
    "            if(self.tech[3][x]!='NaN' and type(self.tech[3][x]) == str):\n",
    "                var_col[(self.tech[3][x]).strip()]= self.tech[1][x]\n",
    "        return var_col\n",
    "        \n",
    "        \n",
    "example=medical_set()\n",
    "print(example.working_set)\n",
    "example.append_working_set(\"Tot Active M.D.s Non-Fed & Fed\")\n",
    "print(example.working_set)\n",
    "example.append_working_set(\"Population Estimate\")\n",
    "print(example.working_set)\n",
    "example.export()\n",
    "example.plot(\"Population Estimate\", \"Tot Active M.D.s Non-Fed & Fed\")\n",
    "\n",
    "\n",
    "\n",
    "\n",
    "\n",
    "        \n",
    "\n",
    "        \n",
    "        \n",
    "        \n",
    "        \n",
    "        \n",
    "        \n",
    "        \n",
    "        \n",
    "        \n",
    "        \n",
    "        \n",
    "        \n",
    "        \n",
    "        \n",
    " \n",
    "\n",
    "\n",
    "\n"
   ]
  },
  {
   "cell_type": "code",
   "execution_count": null,
   "metadata": {
    "collapsed": true
   },
   "outputs": [],
   "source": [
    " "
   ]
  },
  {
   "cell_type": "code",
   "execution_count": null,
   "metadata": {
    "collapsed": true
   },
   "outputs": [],
   "source": []
  },
  {
   "cell_type": "code",
   "execution_count": null,
   "metadata": {
    "collapsed": true
   },
   "outputs": [],
   "source": []
  },
  {
   "cell_type": "code",
   "execution_count": null,
   "metadata": {
    "collapsed": true
   },
   "outputs": [],
   "source": []
  },
  {
   "cell_type": "code",
   "execution_count": null,
   "metadata": {
    "collapsed": true
   },
   "outputs": [],
   "source": []
  },
  {
   "cell_type": "code",
   "execution_count": null,
   "metadata": {
    "collapsed": true
   },
   "outputs": [],
   "source": []
  },
  {
   "cell_type": "code",
   "execution_count": null,
   "metadata": {
    "collapsed": true
   },
   "outputs": [],
   "source": []
  }
 ],
 "metadata": {
  "kernelspec": {
   "display_name": "Python 3",
   "language": "python",
   "name": "python3"
  },
  "language_info": {
   "codemirror_mode": {
    "name": "ipython",
    "version": 3
   },
   "file_extension": ".py",
   "mimetype": "text/x-python",
   "name": "python",
   "nbconvert_exporter": "python",
   "pygments_lexer": "ipython3",
   "version": "3.6.1"
  }
 },
 "nbformat": 4,
 "nbformat_minor": 2
}
